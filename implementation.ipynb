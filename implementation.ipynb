{
 "cells": [
  {
   "cell_type": "code",
   "execution_count": null,
   "id": "bcb7ec6f",
   "metadata": {},
   "outputs": [],
   "source": [
    "from model_training.training import simple_conv_neural_network,conv_neural_network,save_model\n",
    "from model_training.model_eval import compute_avg_mae\n",
    "from src.config import CONFIG\n",
    "import pandas as pd\n",
    "import matplotlib.pyplot as plt\n",
    "\n",
    "train_df = pd.read_csv(\"data/train_data.csv\")\n",
    "val_df = pd.read_csv(\"data/val_data.csv\")\n",
    "test_df = pd.read_csv(\"data/test_data.csv\")\n",
    "\n",
    "l2_penalty = CONFIG[\"l2_penalty\"]\n",
    "conv1_filters = CONFIG[\"conv1_filters\"]\n",
    "conv2_filters = CONFIG[\"conv2_filters\"]\n",
    "conv3_filters = CONFIG[\"conv3_filters\"]\n",
    "dense1_units = CONFIG[\"dense1_units\"]\n",
    "dense2_units = CONFIG[\"dense2_units\"]\n",
    "dropout_rate = CONFIG[\"dropout_rate\"]\n",
    "learning_rate = CONFIG[\"learning_rate\"]\n",
    "earlystop_patience = CONFIG[\"earlystop_patience\"]\n",
    "training_epochs = CONFIG[\"training_epochs\"]"
   ]
  },
  {
   "cell_type": "code",
   "execution_count": null,
   "id": "8de37e97",
   "metadata": {},
   "outputs": [],
   "source": [
    "model_1, history_1 = simple_conv_neural_network(\n",
    "                                     conv1_filters,\n",
    "                                     conv2_filters,\n",
    "                                     conv3_filters,\n",
    "                                     dense1_units,\n",
    "                                     dense2_units,\n",
    "                                     learning_rate,\n",
    "                                     training_epochs)\n",
    "\n",
    "plt.plot(history_1.history['denorm_mae'], label='Train MAE (denorm)')\n",
    "plt.plot(history_1.history['val_denorm_mae'], label='Val MAE (denorm)')\n",
    "plt.xlabel('Epoch')\n",
    "plt.ylabel('MAE')\n",
    "plt.legend()\n",
    "plt.show()\n",
    "\n",
    "train_mae = compute_avg_mae(train_df, model_1)\n",
    "val_mae = compute_avg_mae(train_df, model_1)\n",
    "\n",
    "print(f\"Train mae: {train_mae}\")\n",
    "print(f\"Val mae: {train_mae}\")\n",
    "\n",
    "save_model(model_1, \"model_1\")"
   ]
  }
 ],
 "metadata": {
  "language_info": {
   "name": "python"
  }
 },
 "nbformat": 4,
 "nbformat_minor": 5
}
